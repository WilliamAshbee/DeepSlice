{
  "nbformat": 4,
  "nbformat_minor": 0,
  "metadata": {
    "colab": {
      "name": "DeepSlice-notebook.ipynb",
      "provenance": [],
      "collapsed_sections": [],
      "authorship_tag": "ABX9TyM2nodQDg1DFzWtmk72OTyR",
      "include_colab_link": true
    },
    "kernelspec": {
      "name": "python3",
      "display_name": "Python 3"
    }
  },
  "cells": [
    {
      "cell_type": "markdown",
      "metadata": {
        "id": "view-in-github",
        "colab_type": "text"
      },
      "source": [
        "<a href=\"https://colab.research.google.com/github/WilliamAshbee/DeepSlice/blob/master/DeepSlice_notebook.ipynb\" target=\"_parent\"><img src=\"https://colab.research.google.com/assets/colab-badge.svg\" alt=\"Open In Colab\"/></a>"
      ]
    },
    {
      "cell_type": "code",
      "metadata": {
        "id": "OTN_S6R3D0Ma",
        "outputId": "0027bd36-0c37-4165-dc24-fc51860d7cf3",
        "colab": {
          "base_uri": "https://localhost:8080/"
        }
      },
      "source": [
        "pip install keras"
      ],
      "execution_count": 1,
      "outputs": [
        {
          "output_type": "stream",
          "text": [
            "Requirement already satisfied: keras in /usr/local/lib/python3.6/dist-packages (2.4.3)\n",
            "Requirement already satisfied: h5py in /usr/local/lib/python3.6/dist-packages (from keras) (2.10.0)\n",
            "Requirement already satisfied: pyyaml in /usr/local/lib/python3.6/dist-packages (from keras) (3.13)\n",
            "Requirement already satisfied: scipy>=0.14 in /usr/local/lib/python3.6/dist-packages (from keras) (1.4.1)\n",
            "Requirement already satisfied: numpy>=1.9.1 in /usr/local/lib/python3.6/dist-packages (from keras) (1.18.5)\n",
            "Requirement already satisfied: six in /usr/local/lib/python3.6/dist-packages (from h5py->keras) (1.15.0)\n"
          ],
          "name": "stdout"
        }
      ]
    },
    {
      "cell_type": "code",
      "metadata": {
        "id": "Wxwf7eGYE8XG"
      },
      "source": [
        "from keras.models import Sequential\n",
        "from keras.layers import Dense\n",
        "from keras.utils import np_utils\n"
      ],
      "execution_count": 2,
      "outputs": []
    },
    {
      "cell_type": "code",
      "metadata": {
        "id": "EmHGxTjJFBPJ"
      },
      "source": [
        "import numpy\n",
        "import pandas as pd\n",
        "from sklearn.model_selection import train_test_split\n",
        "from sklearn.preprocessing import LabelEncoder\n",
        "import matplotlib.pyplot as plt\n",
        "from keras.utils import plot_model\n"
      ],
      "execution_count": 3,
      "outputs": []
    },
    {
      "cell_type": "code",
      "metadata": {
        "id": "2WrHUlEgFE-Q"
      },
      "source": [
        "seed = 9\n",
        "numpy.random.seed(seed)\n"
      ],
      "execution_count": 4,
      "outputs": []
    },
    {
      "cell_type": "code",
      "metadata": {
        "id": "U47Lq76EFHXQ"
      },
      "source": [
        "# load datasets\n",
        "#csv files were filtered based on the data.\n",
        "input_file = \"input.txt\"#you will need to modify this\n",
        "test_file = \"test.txt\"#you will need to modify this\n",
        "dataset = pd.read_csv(input_file).values\n"
      ],
      "execution_count": 6,
      "outputs": []
    },
    {
      "cell_type": "code",
      "metadata": {
        "id": "a64cZxLbFQ-R",
        "outputId": "1beb0d9a-7a0c-4fbc-f2fe-5fd00a1bc0a6",
        "colab": {
          "base_uri": "https://localhost:8080/"
        }
      },
      "source": [
        "dataset.shape"
      ],
      "execution_count": 8,
      "outputs": [
        {
          "output_type": "execute_result",
          "data": {
            "text/plain": [
              "(53168, 9)"
            ]
          },
          "metadata": {
            "tags": []
          },
          "execution_count": 8
        }
      ]
    },
    {
      "cell_type": "code",
      "metadata": {
        "id": "jGShvl3WFV5X"
      },
      "source": [
        "# read training data\n",
        "datasetTest = pd.read_csv(test_file).values\n"
      ],
      "execution_count": 9,
      "outputs": []
    },
    {
      "cell_type": "code",
      "metadata": {
        "id": "osZ5wFcWFe9f"
      },
      "source": [
        "# split into input (X) and output (Y) variables\n",
        "X = dataset[:,0:8].astype(\"int32\")\n",
        "Y = dataset[:,8]\n",
        "XT = datasetTest[:,0:8].astype(\"int32\")"
      ],
      "execution_count": 10,
      "outputs": []
    },
    {
      "cell_type": "code",
      "metadata": {
        "id": "MWOnYf-iFifs"
      },
      "source": [
        "encoder = LabelEncoder()\n",
        "encoder.fit(Y)\n",
        "encoded_Y = encoder.transform(Y)\n"
      ],
      "execution_count": 11,
      "outputs": []
    },
    {
      "cell_type": "code",
      "metadata": {
        "id": "2hFXmZqMFknp"
      },
      "source": [
        "# convert integers to dummy variables (i.e. one hot encoded)\n",
        "dummy_y = np_utils.to_categorical(encoded_Y)\n"
      ],
      "execution_count": 12,
      "outputs": []
    },
    {
      "cell_type": "code",
      "metadata": {
        "id": "zqr6NSGKFmsR",
        "outputId": "88b6ea9f-9535-488f-ab9b-79a85e6289be",
        "colab": {
          "base_uri": "https://localhost:8080/"
        }
      },
      "source": [
        "(X_train, X_test, Y_train, Y_test) = train_test_split(X, dummy_y, test_size=0.001, random_state=seed)\n",
        "# create model\n",
        "model = Sequential()\n",
        "model.add(Dense(8, input_dim=8, activation='relu'))\n",
        "model.add(Dense(4,  activation='relu')) #modified\n",
        "model.add(Dense(3,  activation='tanh')) #modified\n",
        "model.add(Dense(3,  activation='softmax')) #modified\n",
        "print(model.summary())\n",
        "# Compile model\n",
        "model.compile(loss='categorical_crossentropy', optimizer='adam', metrics=['accuracy'])\n"
      ],
      "execution_count": 15,
      "outputs": [
        {
          "output_type": "stream",
          "text": [
            "Model: \"sequential_2\"\n",
            "_________________________________________________________________\n",
            "Layer (type)                 Output Shape              Param #   \n",
            "=================================================================\n",
            "dense (Dense)                (None, 8)                 72        \n",
            "_________________________________________________________________\n",
            "dense_1 (Dense)              (None, 4)                 36        \n",
            "_________________________________________________________________\n",
            "dense_2 (Dense)              (None, 3)                 15        \n",
            "_________________________________________________________________\n",
            "dense_3 (Dense)              (None, 3)                 12        \n",
            "=================================================================\n",
            "Total params: 135\n",
            "Trainable params: 135\n",
            "Non-trainable params: 0\n",
            "_________________________________________________________________\n",
            "None\n"
          ],
          "name": "stdout"
        }
      ]
    },
    {
      "cell_type": "code",
      "metadata": {
        "id": "evhxqPrqFqjh",
        "outputId": "95c82c51-dc5b-4dd0-c638-9bb4d9a142e8",
        "colab": {
          "base_uri": "https://localhost:8080/"
        }
      },
      "source": [
        "# Fit the model\n",
        "\n",
        "history = model.fit(X_train, Y_train, validation_split=0.3, epochs=16, batch_size=128)\n",
        "\n",
        "# evaluate the model\n",
        "scores = model.evaluate(X_test, Y_test)\n",
        "\n",
        "print(\"\\n%s: %.2f%%\" % (model.metrics_names[1], scores[1]*100))"
      ],
      "execution_count": 16,
      "outputs": [
        {
          "output_type": "stream",
          "text": [
            "Epoch 1/16\n",
            "291/291 [==============================] - 1s 2ms/step - loss: 1.0751 - accuracy: 0.4777 - val_loss: 0.9399 - val_accuracy: 0.5351\n",
            "Epoch 2/16\n",
            "291/291 [==============================] - 0s 1ms/step - loss: 0.7189 - accuracy: 0.6797 - val_loss: 0.5592 - val_accuracy: 0.7188\n",
            "Epoch 3/16\n",
            "291/291 [==============================] - 0s 1ms/step - loss: 0.5109 - accuracy: 0.7229 - val_loss: 0.4815 - val_accuracy: 0.7194\n",
            "Epoch 4/16\n",
            "291/291 [==============================] - 0s 1ms/step - loss: 0.4623 - accuracy: 0.7230 - val_loss: 0.4502 - val_accuracy: 0.7194\n",
            "Epoch 5/16\n",
            "291/291 [==============================] - 0s 1ms/step - loss: 0.4410 - accuracy: 0.7230 - val_loss: 0.4357 - val_accuracy: 0.7194\n",
            "Epoch 6/16\n",
            "291/291 [==============================] - 0s 2ms/step - loss: 0.4306 - accuracy: 0.7230 - val_loss: 0.4282 - val_accuracy: 0.7194\n",
            "Epoch 7/16\n",
            "291/291 [==============================] - 0s 1ms/step - loss: 0.4248 - accuracy: 0.7230 - val_loss: 0.4238 - val_accuracy: 0.7194\n",
            "Epoch 8/16\n",
            "291/291 [==============================] - 0s 1ms/step - loss: 0.4213 - accuracy: 0.7230 - val_loss: 0.4211 - val_accuracy: 0.7194\n",
            "Epoch 9/16\n",
            "291/291 [==============================] - 0s 1ms/step - loss: 0.4191 - accuracy: 0.7230 - val_loss: 0.4192 - val_accuracy: 0.7194\n",
            "Epoch 10/16\n",
            "291/291 [==============================] - 0s 1ms/step - loss: 0.4176 - accuracy: 0.7230 - val_loss: 0.4181 - val_accuracy: 0.7194\n",
            "Epoch 11/16\n",
            "291/291 [==============================] - 0s 1ms/step - loss: 0.4164 - accuracy: 0.7230 - val_loss: 0.4170 - val_accuracy: 0.7194\n",
            "Epoch 12/16\n",
            "291/291 [==============================] - 0s 1ms/step - loss: 0.4157 - accuracy: 0.7230 - val_loss: 0.4162 - val_accuracy: 0.7194\n",
            "Epoch 13/16\n",
            "291/291 [==============================] - 0s 2ms/step - loss: 0.4150 - accuracy: 0.7230 - val_loss: 0.4156 - val_accuracy: 0.7194\n",
            "Epoch 14/16\n",
            "291/291 [==============================] - 0s 1ms/step - loss: 0.4145 - accuracy: 0.7230 - val_loss: 0.4151 - val_accuracy: 0.7194\n",
            "Epoch 15/16\n",
            "291/291 [==============================] - 0s 1ms/step - loss: 0.4141 - accuracy: 0.7230 - val_loss: 0.4151 - val_accuracy: 0.7194\n",
            "Epoch 16/16\n",
            "291/291 [==============================] - 0s 1ms/step - loss: 0.2112 - accuracy: 0.9021 - val_loss: 0.1720 - val_accuracy: 0.9356\n",
            "2/2 [==============================] - 0s 1ms/step - loss: 0.1757 - accuracy: 0.9259\n",
            "\n",
            "accuracy: 92.59%\n"
          ],
          "name": "stdout"
        }
      ]
    },
    {
      "cell_type": "code",
      "metadata": {
        "id": "pnWQ03KZGM-q",
        "outputId": "aed71776-abf7-43ff-b424-bdab5cf7a59f",
        "colab": {
          "base_uri": "https://localhost:8080/",
          "height": 466
        }
      },
      "source": [
        "plot_model(model) #removed tofile\n"
      ],
      "execution_count": 17,
      "outputs": [
        {
          "output_type": "execute_result",
          "data": {
            "image/png": "[encoded data removed]",
            "text/plain": [
              "<IPython.core.display.Image object>"
            ]
          },
          "metadata": {
            "tags": []
          },
          "execution_count": 17
        }
      ]
    },
    {
      "cell_type": "code",
      "metadata": {
        "id": "UyYfnRy3GTB9",
        "outputId": "5061a132-d06e-4949-fb42-89b86a40502a",
        "colab": {
          "base_uri": "https://localhost:8080/"
        }
      },
      "source": [
        "[print(key) for key in history.history.keys()]"
      ],
      "execution_count": 26,
      "outputs": [
        {
          "output_type": "stream",
          "text": [
            "loss\n",
            "accuracy\n",
            "val_loss\n",
            "val_accuracy\n"
          ],
          "name": "stdout"
        },
        {
          "output_type": "execute_result",
          "data": {
            "text/plain": [
              "[None, None, None, None]"
            ]
          },
          "metadata": {
            "tags": []
          },
          "execution_count": 26
        }
      ]
    },
    {
      "cell_type": "code",
      "metadata": {
        "id": "pkegzbMzGZ5H",
        "outputId": "3de4065e-c498-456b-cfca-b94eb29e2380",
        "colab": {
          "base_uri": "https://localhost:8080/",
          "height": 295
        }
      },
      "source": [
        "# Plot training & validation accuracy values\n",
        "plt.plot(history.history['accuracy']) #changed key names\n",
        "plt.plot(history.history['val_accuracy']) #changed key names\n",
        "plt.title('Model Accuracy')\n",
        "plt.ylabel('Accuracy')\n",
        "plt.xlabel('Epoch')\n",
        "plt.legend(['Train', 'Test'], loc='upper left')\n",
        "plt.show()"
      ],
      "execution_count": 27,
      "outputs": [
        {
          "output_type": "display_data",
          "data": {
            "image/png": "[encoded data removed]",
            "text/plain": [
              "<Figure size 432x288 with 1 Axes>"
            ]
          },
          "metadata": {
            "tags": [],
            "needs_background": "light"
          }
        }
      ]
    },
    {
      "cell_type": "code",
      "metadata": {
        "id": "Gy7rsICHHtQF",
        "outputId": "be105462-7104-4d76-822c-f5c0b4131df4",
        "colab": {
          "base_uri": "https://localhost:8080/",
          "height": 295
        }
      },
      "source": [
        "# Plot training & validation loss values\n",
        "plt.plot(history.history['loss'])\n",
        "plt.plot(history.history['val_loss'])\n",
        "plt.title('Model Loss')\n",
        "plt.ylabel('Loss')\n",
        "plt.xlabel('Epoch')\n",
        "plt.legend(['Train', 'Test'], loc='upper right')\n",
        "plt.show()\n"
      ],
      "execution_count": 28,
      "outputs": [
        {
          "output_type": "display_data",
          "data": {
            "image/png": "[encoded data removed]",
            "text/plain": [
              "<Figure size 432x288 with 1 Axes>"
            ]
          },
          "metadata": {
            "tags": [],
            "needs_background": "light"
          }
        }
      ]
    },
    {
      "cell_type": "code",
      "metadata": {
        "id": "ixQAExoDHz5m"
      },
      "source": [
        "#from sklearn.metrics import confusion_matrix\n",
        "#y_pred_keras = model.predict_classes(XT)\n",
        "\n",
        "#csv = open(\"C:\\\\DeepSlice\\\\5G\\\\output.csv\", \"w\")\n",
        "#\"w\" indicates that you're writing strings to the file\n",
        "\n",
        "#pd.DataFrame(y_pred_keras).to_csv(\"C:\\\\DeepSlice\\\\5G\\\\output.csv\")\n",
        "#cm = confusion_matrix(Y_test, y_pred_keras, labels=[0, 1, 2])\n",
        "\n",
        "#csv = open(\"C:\\\\DeepSlice\\\\5G\\\\input.csv\", \"w\")\n",
        "#\"w\" indicates that you're writing strings to the file\n",
        "\n",
        "#pd.DataFrame(XT).to_csv(\"C:\\\\DeepSlice\\\\5G\\\\input.csv\")"
      ],
      "execution_count": 29,
      "outputs": []
    },
    {
      "cell_type": "code",
      "metadata": {
        "id": "RZ-CKAH5H4Aa"
      },
      "source": [
        ""
      ],
      "execution_count": null,
      "outputs": []
    }
  ]
}